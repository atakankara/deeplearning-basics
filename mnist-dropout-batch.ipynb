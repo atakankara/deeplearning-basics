{
 "cells": [
  {
   "cell_type": "code",
   "execution_count": null,
   "metadata": {},
   "outputs": [],
   "source": [
    "from keras.datasets import mnist"
   ]
  },
  {
   "cell_type": "code",
   "execution_count": null,
   "metadata": {},
   "outputs": [],
   "source": [
    "import sys, numpy as np"
   ]
  },
  {
   "cell_type": "code",
   "execution_count": null,
   "metadata": {},
   "outputs": [],
   "source": [
    "(x_train, y_train), (x_test, y_test) = mnist.load_data()"
   ]
  },
  {
   "cell_type": "code",
   "execution_count": null,
   "metadata": {},
   "outputs": [],
   "source": [
    "images, labels = x_train[0:1000].reshape(1000,28*28)/255, y_train[0:1000]"
   ]
  },
  {
   "cell_type": "code",
   "execution_count": null,
   "metadata": {},
   "outputs": [],
   "source": [
    "one_hot_labels = np.zeros((len(labels),10))"
   ]
  },
  {
   "cell_type": "code",
   "execution_count": null,
   "metadata": {
    "scrolled": false
   },
   "outputs": [],
   "source": [
    "for i,l in enumerate(labels):\n",
    "    one_hot_labels[i][l] = 1\n",
    "labels = one_hot_labels"
   ]
  },
  {
   "cell_type": "code",
   "execution_count": null,
   "metadata": {},
   "outputs": [],
   "source": [
    "y_test = y_test[0:1000]\n",
    "test_images = x_test.reshape(len(x_test),28*28) /255\n",
    "test_labels = np.zeros((len(y_test),10))\n"
   ]
  },
  {
   "cell_type": "code",
   "execution_count": null,
   "metadata": {},
   "outputs": [],
   "source": [
    "for i,l in enumerate(y_test):\n",
    "    test_labels[i][l] = 1\n"
   ]
  },
  {
   "cell_type": "code",
   "execution_count": null,
   "metadata": {},
   "outputs": [],
   "source": [
    "np.random.seed(1)"
   ]
  },
  {
   "cell_type": "code",
   "execution_count": null,
   "metadata": {},
   "outputs": [],
   "source": [
    "relu = lambda x:(x>0)*x\n",
    "relu2deriv = lambda x:x>=0"
   ]
  },
  {
   "cell_type": "code",
   "execution_count": null,
   "metadata": {},
   "outputs": [],
   "source": [
    "alpha, iterations, hidden_size, pixels_per_image, num_labels = \\\n",
    "(0.001, 300, 100, 784, 10)\n",
    "batch_size = 100"
   ]
  },
  {
   "cell_type": "code",
   "execution_count": null,
   "metadata": {},
   "outputs": [],
   "source": [
    "weights_0_1 = 0.2*np.random.random((pixels_per_image,hidden_size))-0.1\n",
    "weights_1_2 = 0.2*np.random.random((hidden_size,num_labels))-0.1"
   ]
  },
  {
   "cell_type": "code",
   "execution_count": null,
   "metadata": {},
   "outputs": [],
   "source": [
    "for j in range(iterations):\n",
    "    error, correct_cnt = (0.0, 0)\n",
    "    \n",
    "    for i in range(int(len(images) / batch_size)):\n",
    "        batch_start, batch_end = ((i * batch_size),(i+1)*batch_size)\n",
    "        \n",
    "        layer_0 = images[batch_start:batch_end]\n",
    "        layer_1 = relu(np.dot(layer_0,weights_0_1))\n",
    "        dropout_mask = np.random.randint(2,size=layer_1.shape)\n",
    "        layer_1 *= dropout_mask * 2\n",
    "        layer_2 = np.dot(layer_1,weights_1_2)\n",
    "        error += np.sum((labels[batch_start:batch_end] - layer_2)**2)\n",
    "        \n",
    "        for k in range(batch_size):    \n",
    "            correct_cnt += int(np.argmax(layer_2[k:k+1]) ==\\\n",
    "                               np.argmax(labels[batch_start+k:\\\n",
    "                                                batch_start+k+1]))\n",
    "        \n",
    "            layer_2_delta = (labels[batch_start:batch_end] - layer_2)\\\n",
    "                                                                /batch_size\n",
    "            layer_1_delta = layer_2_delta.dot(weights_1_2.T)*relu2deriv(layer_1)\n",
    "            layer_1_delta *= dropout_mask\n",
    "        \n",
    "            weights_1_2 += alpha*layer_1.T.dot(layer_2_delta)\n",
    "            weights_0_1 += alpha*layer_0.T.dot(layer_1_delta)\n",
    "    \n",
    "    if(j%10 == 0):\n",
    "        test_error = 0.0\n",
    "        test_correct_cnt = 0\n",
    "    \n",
    "        for k in range(len(test_labels)):\n",
    "            layer_0 = test_images[k:k+1]\n",
    "            layer_1 = relu(np.dot(layer_0,weights_0_1))\n",
    "            layer_2 = np.dot(layer_1,weights_1_2)\n",
    "            test_error += np.sum((test_labels[k:k+1] - layer_2) **2)\n",
    "            test_correct_cnt += int(np.argmax(layer_2) == np.argmax(test_labels[k:k+1]))\n",
    "    \n",
    "        sys.stdout.write(\"\\n\"+ \\\n",
    "                        \"Iteration:\"+str(j) +\\\n",
    "                        \" Test-Err:\"+str(test_error/ float(len(test_images)))[0:5] +\\\n",
    "                        \" Test-Acc:\"+str(test_correct_cnt/float(len(test_images)))+\\\n",
    "                        \" Train-Err\"+str(error/float(len(images)))[0:5]+\\\n",
    "                        \" Train-Acc\"+str(correct_cnt/float(len(images))))"
   ]
  }
 ],
 "metadata": {
  "kernelspec": {
   "display_name": "Python 3",
   "language": "python",
   "name": "python3"
  },
  "language_info": {
   "codemirror_mode": {
    "name": "ipython",
    "version": 3
   },
   "file_extension": ".py",
   "mimetype": "text/x-python",
   "name": "python",
   "nbconvert_exporter": "python",
   "pygments_lexer": "ipython3",
   "version": "3.8.5"
  }
 },
 "nbformat": 4,
 "nbformat_minor": 4
}
